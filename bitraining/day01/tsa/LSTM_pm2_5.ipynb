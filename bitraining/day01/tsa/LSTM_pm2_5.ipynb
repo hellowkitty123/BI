{
  "nbformat": 4,
  "nbformat_minor": 0,
  "metadata": {
    "kernelspec": {
      "display_name": "Python 3",
      "language": "python",
      "name": "python3"
    },
    "toc": {
      "base_numbering": 1,
      "nav_menu": {},
      "number_sections": true,
      "sideBar": true,
      "skip_h1_title": false,
      "title_cell": "Table of Contents",
      "title_sidebar": "Contents",
      "toc_cell": false,
      "toc_position": {},
      "toc_section_display": true,
      "toc_window_display": false
    },
    "colab": {
      "name": "LSTM_pm2.5.ipynb",
      "provenance": [],
      "collapsed_sections": [],
      "toc_visible": true
    },
    "accelerator": "GPU"
  },
  "cells": [
    {
      "cell_type": "code",
      "metadata": {
        "ExecuteTime": {
          "end_time": "2020-12-28T12:46:08.695246Z",
          "start_time": "2020-12-28T12:45:50.066745Z"
        },
        "id": "BcUcjdarrCbT",
        "outputId": "c7f5f60d-eabe-423e-ffca-ef437d667125"
      },
      "source": [
        "!pip install keras"
      ],
      "execution_count": null,
      "outputs": [
        {
          "output_type": "stream",
          "text": [
            "Defaulting to user installation because normal site-packages is not writeable\n",
            "Collecting keras\n",
            "  Downloading Keras-2.4.3-py2.py3-none-any.whl (36 kB)\n",
            "Requirement already satisfied: pyyaml in /opt/conda/lib/python3.7/site-packages (from keras) (5.3)\n",
            "Requirement already satisfied: h5py in /opt/conda/lib/python3.7/site-packages (from keras) (2.10.0)\n",
            "Requirement already satisfied: numpy>=1.9.1 in /opt/conda/lib/python3.7/site-packages (from keras) (1.18.1)\n",
            "Requirement already satisfied: scipy>=0.14 in /opt/conda/lib/python3.7/site-packages (from keras) (1.4.1)\n",
            "Requirement already satisfied: six in /opt/conda/lib/python3.7/site-packages (from h5py->keras) (1.14.0)\n",
            "Installing collected packages: keras\n",
            "Successfully installed keras-2.4.3\n"
          ],
          "name": "stdout"
        }
      ]
    },
    {
      "cell_type": "code",
      "metadata": {
        "ExecuteTime": {
          "end_time": "2020-12-29T03:35:17.721762Z",
          "start_time": "2020-12-29T03:35:12.230679Z"
        },
        "colab": {
          "base_uri": "https://localhost:8080/"
        },
        "id": "zuatYWYdrCba",
        "outputId": "21ec80e1-fbd3-4234-e4d1-ab7dcbd691ee"
      },
      "source": [
        "import numpy as np\n",
        "import pandas as pd\n",
        "from sklearn.metrics import mean_squared_error\n",
        "from sklearn.preprocessing import LabelEncoder\n",
        "from sklearn.preprocessing import MinMaxScaler\n",
        "from keras.models import Sequential\n",
        "from keras.layers import Dense\n",
        "from keras.layers import LSTM\n",
        "from keras.layers import Dropout\n",
        "from pandas import DataFrame\n",
        "from pandas import concat\n",
        "from itertools import chain\n",
        "from datetime import datetime\n",
        "import matplotlib.pyplot as plt\n",
        "\n",
        "\n",
        "def parse(x):\n",
        "    return datetime.strptime(x,'%Y %m %d %H')\n",
        "\n",
        "def load_set():\n",
        "    data = pd.read_csv('./PRSA_data_2010.1.1-2014.12.31.csv',parse_dates =[['year','month','day','hour']],index_col = 0,date_parser=parse)\n",
        "    data = data.drop(columns=['No'])\n",
        "    data.columns = ['pollution','dew','temp','press','wnd_dir','wnd_spd','snow','rain']\n",
        "    data.index.name = 'data'\n",
        "    data['pollution'].fillna(0,inplace=True)\n",
        "    \n",
        "    # 去掉第一天的数据\n",
        "    data = data[24:]\n",
        "\n",
        "    data.to_csv('pollution.csv')\n",
        "    print(data.head())\n",
        "    return data\n",
        "#     data = data.dropna(axis=0)\n",
        "#     data.columns = ['popul']\n",
        "#     print(data.columns)\n",
        "\n",
        "scaled = load_set()\n",
        "\n"
      ],
      "execution_count": 3,
      "outputs": [
        {
          "output_type": "stream",
          "text": [
            "                     pollution  dew  temp   press wnd_dir  wnd_spd  snow  rain\n",
            "data                                                                          \n",
            "2010-01-02 00:00:00      129.0  -16  -4.0  1020.0      SE     1.79     0     0\n",
            "2010-01-02 01:00:00      148.0  -15  -4.0  1020.0      SE     2.68     0     0\n",
            "2010-01-02 02:00:00      159.0  -11  -5.0  1021.0      SE     3.57     0     0\n",
            "2010-01-02 03:00:00      181.0   -7  -5.0  1022.0      SE     5.36     1     0\n",
            "2010-01-02 04:00:00      138.0   -7  -5.0  1022.0      SE     6.25     2     0\n"
          ],
          "name": "stdout"
        }
      ]
    },
    {
      "cell_type": "code",
      "metadata": {
        "ExecuteTime": {
          "end_time": "2020-12-29T03:54:29.848781Z",
          "start_time": "2020-12-29T03:54:29.747618Z"
        },
        "colab": {
          "base_uri": "https://localhost:8080/"
        },
        "id": "lWZ02rqarCbb",
        "outputId": "83586d26-ca67-4bb7-a461-0669336541ea"
      },
      "source": [
        "\n",
        "\"\"\"\n",
        "将时间序列数据转换为适用于监督学习的数据\n",
        "给定输入、输出序列的长度\n",
        "data: 观察序列\n",
        "n_in: 观测数据input(X)的步长，范围[1, len(data)], 默认为1\n",
        "n_out: 观测数据output(y)的步长， 范围为[0, len(data)-1], 默认为1\n",
        "dropnan: 是否删除NaN行\n",
        "返回值：适用于监督学习的 DataFrame\n",
        "\"\"\"\n",
        "def series_to_supervised(data, n_in=1, n_out=1, dropnan=True):\n",
        "    n_vars = 1 if type(data) is list else data.shape[1]\n",
        "    df = DataFrame(data)\n",
        "    cols, names = list(), list()\n",
        "    # input sequence (t-n, ... t-1)\n",
        "    for i in range(n_in, 0, -1):\n",
        "        cols.append(df.shift(i))\n",
        "        names += [('var%d(t-%d)' % (j + 1, i)) for j in range(n_vars)]\n",
        "    # 预测序列 (t, t+1, ... t+n)\n",
        "    for i in range(0, n_out):\n",
        "        cols.append(df.shift(-i))\n",
        "        if i == 0:\n",
        "            names += [('var%d(t)' % (j + 1)) for j in range(n_vars)]\n",
        "        else:\n",
        "            names += [('var%d(t+%d)' % (j + 1, i)) for j in range(n_vars)]\n",
        "    # 拼接到一起\n",
        "    agg = concat(cols, axis=1)\n",
        "    agg.columns = names\n",
        "    # 去掉NaN行\n",
        "    if dropnan:\n",
        "        agg.dropna(inplace=True)\n",
        "    return agg\n",
        "\n",
        "# 转化为可以用于监督学习的数据\n",
        "def get_train_set(data_set, timesteps_in, timesteps_out=1):\n",
        "    \n",
        "    \n",
        "    le = LabelEncoder()\n",
        "    print(data_set.columns)\n",
        "    data_set['wnd_dir'] = LabelEncoder().fit_transform(data_set['wnd_dir'])\n",
        "\n",
        "    data_set.values.astype('float32')\n",
        "    scaler = MinMaxScaler()\n",
        "    scaled = scaler.fit_transform(data_set)\n",
        "    print('-----------series_to_supervised-------')\n",
        "    # print(scaled.shape)\n",
        "    # print(scaled)\n",
        "    \n",
        "    train_data_set = np.array(scaled)\n",
        "    \n",
        "\n",
        "    \n",
        "    reframed = series_to_supervised(train_data_set, timesteps_in, timesteps_out)\n",
        "    \n",
        "    reframed.drop(reframed.columns[[9,10,11,12,13,14,15]], axis=1, inplace=True)\n",
        "    \n",
        "    print(reframed)\n",
        "#     reframed.values[:,5] = le.fit_transform(reframed.values[:,5])\n",
        "    \n",
        "    n_train_hours = int(len(reframed)*0.8)\n",
        "    reframed_train_data_set = np.array(reframed.values)\n",
        "    # print(reframed_train_data_set[0])\n",
        "#     print(reframed_train_data_set)\n",
        "#     print(reframed_train_data_set.shape)\n",
        "    train_x, train_y,test_x,test_y = reframed_train_data_set[:n_train_hours, :-timesteps_out], reframed_train_data_set[:n_train_hours, -timesteps_out:],reframed_train_data_set[n_train_hours:, :-timesteps_out],reframed_train_data_set[n_train_hours:, -timesteps_out:]\n",
        "    # 将数据集重构为符合LSTM要求的数据格式,即 [样本数，时间步，特征]\n",
        "    \n",
        "    train_x = train_x.reshape((train_x.shape[0], timesteps_in, 8))\n",
        "    test_x = test_x.reshape((test_x.shape[0], timesteps_in, 8))\n",
        "    return train_x, train_y,test_x,test_y,reframed_train_data_set\n",
        "\n",
        "\n",
        "train_x, label_y,test_x,testlablel_y,reframed_train_data_set = get_train_set(scaled, timesteps_in=timesteps_in, timesteps_out=timesteps_out)\n",
        "print(train_x.shape,test_x.shape)"
      ],
      "execution_count": 10,
      "outputs": [
        {
          "output_type": "stream",
          "text": [
            "Index(['pollution', 'dew', 'temp', 'press', 'wnd_dir', 'wnd_spd', 'snow',\n",
            "       'rain'],\n",
            "      dtype='object')\n",
            "-----------series_to_supervised-------\n",
            "       var1(t-1)  var2(t-1)  var3(t-1)  ...  var7(t-1)  var8(t-1)   var1(t)\n",
            "1       0.129779   0.352941   0.245902  ...   0.000000        0.0  0.148893\n",
            "2       0.148893   0.367647   0.245902  ...   0.000000        0.0  0.159960\n",
            "3       0.159960   0.426471   0.229508  ...   0.000000        0.0  0.182093\n",
            "4       0.182093   0.485294   0.229508  ...   0.037037        0.0  0.138833\n",
            "5       0.138833   0.485294   0.229508  ...   0.074074        0.0  0.109658\n",
            "...          ...        ...        ...  ...        ...        ...       ...\n",
            "43795   0.010060   0.264706   0.278689  ...   0.000000        0.0  0.008048\n",
            "43796   0.008048   0.250000   0.278689  ...   0.000000        0.0  0.010060\n",
            "43797   0.010060   0.264706   0.262295  ...   0.000000        0.0  0.010060\n",
            "43798   0.010060   0.264706   0.262295  ...   0.000000        0.0  0.008048\n",
            "43799   0.008048   0.264706   0.245902  ...   0.000000        0.0  0.012072\n",
            "\n",
            "[43799 rows x 9 columns]\n",
            "(35039, 1, 8) (8760, 1, 8)\n"
          ],
          "name": "stdout"
        }
      ]
    },
    {
      "cell_type": "code",
      "metadata": {
        "ExecuteTime": {
          "start_time": "2020-12-29T03:54:37.143Z"
        },
        "colab": {
          "base_uri": "https://localhost:8080/",
          "height": 1000
        },
        "id": "cwVjNa8VrCbb",
        "outputId": "d9b17a19-091a-4ed4-e506-6a3b5796c614"
      },
      "source": [
        "\n",
        "\n",
        "# 使用LSTM进行预测\n",
        "def lstm_model(source_data_set, train_x, label_y, test_x,test_y,input_epochs, input_batch_size, timesteps_out):\n",
        "    model = Sequential()\n",
        "    # 第一层, 隐藏层神经元节点个数为128, 返回整个序列\n",
        "    model.add(LSTM(50, input_shape=(train_x.shape[1], train_x.shape[2])))\n",
        "    # 第三层 因为是回归问题所以使用linear\n",
        "    model.add(Dense(timesteps_out))\n",
        "    model.compile(loss='mse', optimizer='adam')\n",
        "    print(test_x.shape)\n",
        "    # LSTM训练 input_epochs次数\n",
        "    res = model.fit(train_x, label_y, epochs=input_epochs, batch_size=input_batch_size, verbose=2, shuffle=False,validation_data=(test_x,test_y))\n",
        "\n",
        "    # 模型预测\n",
        "    train_predict = model.predict(train_x)\n",
        "    #test_data_list = list(chain(*test_data))\n",
        "    train_predict_list = list(chain(*train_predict))\n",
        "\n",
        "\n",
        "    test_predict = model.predict(test_x)\n",
        "\n",
        "    plt.plot(res.history['loss'], label='train')\n",
        "    plt.plot(res.history['val_loss'],label='test')\n",
        "    plt.legend(loc='best')\n",
        "    plt.show()\n",
        "    print(train_predict)\n",
        "    print(model.summary())\n",
        "    plot_img(source_data_set, train_predict,test_predict)\n",
        "\n",
        "# 呈现原始数据，训练结果，验证结果，预测结果\n",
        "def plot_img(source_data_set, train_predict,test_predict):\n",
        "    # 原始数据\n",
        "    plt.plot(source_data_set[:,-1],label='real',c='b')\n",
        "    # 训练数据绿色\n",
        "    plt.plot([x for x in train_predict],label='real' ,c='g')\n",
        "\n",
        "    # 预测结果\n",
        "    plt.plot([None for _  in train_predict] + [x for x in test_predict ],label='test_predict')\n",
        "    plt.legend(loc = 'best')\n",
        "    plt.show()\n",
        "    \n",
        "# print(scaled.head())\n",
        "timesteps_in = 1\n",
        "timesteps_out = 1\n",
        "epochs = 10\n",
        "batch_size =64\n",
        "\n",
        "\n",
        "# print(reframed.head())\n",
        "\n",
        "\n",
        "\n",
        "lstm_model(reframed_train_data_set, train_x, label_y,test_x,testlablel_y, epochs, batch_size, timesteps_out=timesteps_out)"
      ],
      "execution_count": 11,
      "outputs": [
        {
          "output_type": "stream",
          "text": [
            "(8760, 1, 8)\n",
            "Epoch 1/10\n",
            "548/548 - 3s - loss: 0.0045 - val_loss: 0.0070\n",
            "Epoch 2/10\n",
            "548/548 - 2s - loss: 9.9875e-04 - val_loss: 0.0035\n",
            "Epoch 3/10\n",
            "548/548 - 2s - loss: 8.1871e-04 - val_loss: 0.0018\n",
            "Epoch 4/10\n",
            "548/548 - 2s - loss: 7.9608e-04 - val_loss: 0.0015\n",
            "Epoch 5/10\n",
            "548/548 - 2s - loss: 7.9563e-04 - val_loss: 0.0014\n",
            "Epoch 6/10\n",
            "548/548 - 2s - loss: 7.9709e-04 - val_loss: 0.0013\n",
            "Epoch 7/10\n",
            "548/548 - 2s - loss: 7.9857e-04 - val_loss: 0.0012\n",
            "Epoch 8/10\n",
            "548/548 - 2s - loss: 7.9959e-04 - val_loss: 0.0011\n",
            "Epoch 9/10\n",
            "548/548 - 2s - loss: 7.9984e-04 - val_loss: 0.0011\n",
            "Epoch 10/10\n",
            "548/548 - 2s - loss: 7.9960e-04 - val_loss: 0.0011\n"
          ],
          "name": "stdout"
        },
        {
          "output_type": "display_data",
          "data": {
            "image/png": "[encoded data removed]",
            "text/plain": [
              "<Figure size 432x288 with 1 Axes>"
            ]
          },
          "metadata": {
            "tags": [],
            "needs_background": "light"
          }
        },
        {
          "output_type": "stream",
          "text": [
            "[[0.13376582]\n",
            " [0.15164033]\n",
            " [0.16433786]\n",
            " ...\n",
            " [0.0243575 ]\n",
            " [0.02867524]\n",
            " [0.02623271]]\n",
            "Model: \"sequential_3\"\n",
            "_________________________________________________________________\n",
            "Layer (type)                 Output Shape              Param #   \n",
            "=================================================================\n",
            "lstm_3 (LSTM)                (None, 50)                11800     \n",
            "_________________________________________________________________\n",
            "dense_3 (Dense)              (None, 1)                 51        \n",
            "=================================================================\n",
            "Total params: 11,851\n",
            "Trainable params: 11,851\n",
            "Non-trainable params: 0\n",
            "_________________________________________________________________\n",
            "None\n"
          ],
          "name": "stdout"
        },
        {
          "output_type": "stream",
          "text": [
            "/usr/local/lib/python3.6/dist-packages/numpy/core/_asarray.py:136: VisibleDeprecationWarning: Creating an ndarray from ragged nested sequences (which is a list-or-tuple of lists-or-tuples-or ndarrays with different lengths or shapes) is deprecated. If you meant to do this, you must specify 'dtype=object' when creating the ndarray\n",
            "  return array(a, dtype, copy=False, order=order, subok=True)\n"
          ],
          "name": "stderr"
        },
        {
          "output_type": "display_data",
          "data": {
            "image/png": "[encoded data removed]",
            "text/plain": [
              "<Figure size 432x288 with 1 Axes>"
            ]
          },
          "metadata": {
            "tags": [],
            "needs_background": "light"
          }
        }
      ]
    },
    {
      "cell_type": "code",
      "metadata": {
        "id": "-8zEAqyozZuU"
      },
      "source": [
        ""
      ],
      "execution_count": null,
      "outputs": []
    }
  ]
}